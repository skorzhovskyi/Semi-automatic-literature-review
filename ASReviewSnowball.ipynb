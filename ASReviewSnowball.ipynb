{
 "cells": [
  {
   "cell_type": "code",
   "execution_count": 17,
   "id": "0d5afbec",
   "metadata": {},
   "outputs": [],
   "source": [
    "import pandas as pd\n",
    "from semanticscholar import SemanticScholar\n",
    "import time\n",
    "from tqdm import tqdm\n",
    "import glob\n",
    "import os\n",
    "\n",
    "tqdm.pandas()"
   ]
  },
  {
   "cell_type": "code",
   "execution_count": 18,
   "id": "0b10d7ea",
   "metadata": {},
   "outputs": [],
   "source": [
    "ASREVIEW_PATH=os.path.abspath(\"\") + '/asreview/'\n",
    "if not os.path.isdir(ASREVIEW_PATH):\n",
    "    os.mkdir(ASREVIEW_PATH)"
   ]
  },
  {
   "cell_type": "code",
   "execution_count": 19,
   "id": "8ea8ad8d",
   "metadata": {},
   "outputs": [
    {
     "name": "stdout",
     "output_type": "stream",
     "text": [
      "env: ASREVIEW_PATH=C:\\Users\\korzh\\Documents\\projects\\Semi-automatic-literature-review/asreview/\n"
     ]
    }
   ],
   "source": [
    "%env ASREVIEW_PATH={ASREVIEW_PATH}"
   ]
  },
  {
   "cell_type": "code",
   "execution_count": 20,
   "id": "a7c826fb",
   "metadata": {},
   "outputs": [
    {
     "name": "stdout",
     "output_type": "stream",
     "text": [
      "C:\\Users\\korzh\\Documents\\projects\\Semi-automatic-literature-review/asreview/\n"
     ]
    }
   ],
   "source": [
    "!echo %ASREVIEW_PATH%"
   ]
  },
  {
   "cell_type": "code",
   "execution_count": 22,
   "id": "82b5b934",
   "metadata": {},
   "outputs": [
    {
     "name": "stdout",
     "output_type": "stream",
     "text": [
      "Overwriting seed.csv\n"
     ]
    }
   ],
   "source": [
    "%%writefile seed.csv\n",
    "ID\n",
    "CorpusID:19100865\n",
    "CorpusID:21698746\n",
    "CorpusID:17421999\n",
    "CorpusID:13529313\n",
    "CorpusID:220793511\n",
    "CorpusID:88514331\n",
    "CorpusID:46761881\n",
    "CorpusID:68034559\n",
    "CorpusID:236447602\n",
    "CorpusID:253523568"
   ]
  },
  {
   "cell_type": "code",
   "execution_count": 23,
   "id": "a520a488",
   "metadata": {},
   "outputs": [],
   "source": [
    "fields = [\n",
    "        'abstract',\n",
    "        'authors',\n",
    "        'citationCount',\n",
    "        'externalIds',\n",
    "        'fieldsOfStudy',\n",
    "        'influentialCitationCount',\n",
    "        'isOpenAccess',\n",
    "        'journal',\n",
    "        'paperId',\n",
    "        'publicationDate',\n",
    "        'publicationTypes',\n",
    "        'referenceCount',\n",
    "        's2FieldsOfStudy',\n",
    "        'title',\n",
    "        'url',\n",
    "        'venue',\n",
    "        'year'\n",
    "    ]"
   ]
  },
  {
   "cell_type": "code",
   "execution_count": 24,
   "id": "aadf5434",
   "metadata": {},
   "outputs": [],
   "source": [
    "def GetPaperAttributes(paper):\n",
    "    ret = {}\n",
    "    for field in fields:\n",
    "        if field in paper.keys():\n",
    "            ret[field] = paper[field]\n",
    "        else:\n",
    "            ret[field] = None\n",
    "    return ret"
   ]
  },
  {
   "cell_type": "code",
   "execution_count": 25,
   "id": "184eb193",
   "metadata": {},
   "outputs": [],
   "source": [
    "def GetASReviewProjectFile():\n",
    "    list_of_files = glob.glob(ASREVIEW_PATH + '*.csv') \n",
    "    \n",
    "    if len(list_of_files) == 0:\n",
    "        return None\n",
    "    \n",
    "    latest_file = max(list_of_files, key=os.path.getctime)\n",
    "    if os.path.basename(latest_file).startswith('asreview_dataset_'):\n",
    "        return latest_file\n",
    "    return None\n",
    "\n",
    "def FirstIteration():\n",
    "    return GetASReviewProjectFile() == None"
   ]
  },
  {
   "cell_type": "code",
   "execution_count": 26,
   "id": "6aac1f7a",
   "metadata": {},
   "outputs": [
    {
     "name": "stderr",
     "output_type": "stream",
     "text": [
      "100%|████████████████████████████████████████████████████████████████████████████████| 100/100 [00:56<00:00,  1.76it/s]\n"
     ]
    },
    {
     "data": {
      "text/plain": [
       "3351"
      ]
     },
     "execution_count": 26,
     "metadata": {},
     "output_type": "execute_result"
    }
   ],
   "source": [
    "sch = SemanticScholar()\n",
    "sch.timeout = 100000\n",
    "    \n",
    "added_papers = set()\n",
    "linked_papers = []\n",
    "row_id = 0\n",
    "\n",
    "if FirstIteration():\n",
    "    seed_df = pd.read_csv('seed.csv')\n",
    "    df_papers = pd.DataFrame(columns=fields + ['Included'])\n",
    "    \n",
    "    for paper_id in tqdm(seed_df['ID']):\n",
    "        paper = sch.get_paper(paper_id)\n",
    "        d = GetPaperAttributes(paper)\n",
    "        d['Included'] = '1'\n",
    "        \n",
    "        df_papers.loc[row_id] = d\n",
    " \n",
    "        if paper.references != None:\n",
    "            for linked_paper in paper.references:\n",
    "                if linked_paper.paperId not in added_papers:\n",
    "                    linked_papers.append(linked_paper)\n",
    "                    added_papers.add(linked_paper.paperId)\n",
    "                \n",
    "        if paper.citations != None:   \n",
    "            for linked_paper in paper.citations:\n",
    "                if linked_paper.paperId not in added_papers:\n",
    "                    linked_papers.append(linked_paper)\n",
    "                    added_papers.add(linked_paper.paperId)\n",
    "\n",
    "        row_id = row_id + 1\n",
    "\n",
    "else:\n",
    "    df_papers = pd.read_csv(GetASReviewProjectFile())\n",
    "    df_papers.drop(columns=['asreview_ranking', 'record_id'], inplace=True)\n",
    "    df_papers = df_papers[(df_papers.Included == 0) | (df_papers.Included == 1)].reset_index(drop=True)\n",
    "    \n",
    "    added_papesrs = set()\n",
    "    \n",
    "    for paperId in df_papers['paperId']:\n",
    "        added_papesrs.add(paperId)\n",
    "\n",
    "    for paper_inc, paperId in tqdm(list(zip(df_papers['Included'], df_papers['paperId']))):\n",
    "\n",
    "        # if paper is not included we don't consider its references and citations\n",
    "        if paper_inc != 1:\n",
    "            continue\n",
    "        \n",
    "        paper = sch.get_paper(paperId)\n",
    "        \n",
    "        if paper.references != None:\n",
    "            for linked_paper in paper.references:\n",
    "                if linked_paper.paperId not in added_papers:\n",
    "                    linked_papers.append(linked_paper)\n",
    "                    added_papers.add(linked_paper.paperId)\n",
    "                \n",
    "        if paper.citations != None:   \n",
    "            for linked_paper in paper.citations:\n",
    "                if linked_paper.paperId not in added_papers:\n",
    "                    linked_papers.append(linked_paper)\n",
    "                    added_papers.add(linked_paper.paperId)\n",
    "            \n",
    "row_id = len(df_papers)\n",
    "    \n",
    "for linked_paper in linked_papers:\n",
    "    d = GetPaperAttributes(linked_paper)\n",
    "    d['Included'] = ''\n",
    "    df_papers.loc[row_id] = d\n",
    "    row_id = row_id + 1\n",
    "    \n",
    "len(df_papers)"
   ]
  },
  {
   "cell_type": "code",
   "execution_count": 27,
   "id": "0957866a",
   "metadata": {},
   "outputs": [
    {
     "data": {
      "text/plain": [
       "3252"
      ]
     },
     "execution_count": 27,
     "metadata": {},
     "output_type": "execute_result"
    }
   ],
   "source": [
    "df_papers.drop_duplicates(subset=['paperId'], keep='first', inplace=True)\n",
    "len(df_papers)"
   ]
  },
  {
   "cell_type": "code",
   "execution_count": 28,
   "id": "70110f96",
   "metadata": {},
   "outputs": [
    {
     "data": {
      "text/plain": [
       "2704"
      ]
     },
     "execution_count": 28,
     "metadata": {},
     "output_type": "execute_result"
    }
   ],
   "source": [
    "df_papers.dropna(subset=['abstract', 'title'], inplace=True)\n",
    "len(df_papers)"
   ]
  },
  {
   "cell_type": "code",
   "execution_count": 31,
   "id": "575701ec",
   "metadata": {},
   "outputs": [],
   "source": [
    "df_papers.to_csv(ASREVIEW_PATH + 'asreview_dataset_partially_labeled_2.csv', index=False)"
   ]
  },
  {
   "cell_type": "code",
   "execution_count": 32,
   "id": "50b24d6c",
   "metadata": {},
   "outputs": [
    {
     "name": "stdout",
     "output_type": "stream",
     "text": [
      "^C\n"
     ]
    }
   ],
   "source": [
    "!asreview lab"
   ]
  }
 ],
 "metadata": {
  "kernelspec": {
   "display_name": "Python 3 (ipykernel)",
   "language": "python",
   "name": "python3"
  },
  "language_info": {
   "codemirror_mode": {
    "name": "ipython",
    "version": 3
   },
   "file_extension": ".py",
   "mimetype": "text/x-python",
   "name": "python",
   "nbconvert_exporter": "python",
   "pygments_lexer": "ipython3",
   "version": "3.11.1"
  }
 },
 "nbformat": 4,
 "nbformat_minor": 5
}
